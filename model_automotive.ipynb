{
 "cells": [
  {
   "cell_type": "markdown",
   "metadata": {},
   "source": [
    "# 自動車の走行距離予測"
   ]
  },
  {
   "cell_type": "markdown",
   "metadata": {},
   "source": [
    ">作成日：2021/09/26  \n",
    ">ファイル保存先：signate_data"
   ]
  },
  {
   "cell_type": "markdown",
   "metadata": {},
   "source": [
    "## ライブラリのインポート"
   ]
  },
  {
   "cell_type": "code",
   "execution_count": 1,
   "metadata": {},
   "outputs": [
    {
     "name": "stderr",
     "output_type": "stream",
     "text": [
      "Duplicate key in file WindowsPath('C:/Anaconda/lib/site-packages/matplotlib/mpl-data/matplotlibrc'), line 250 ('font.family:  IPAexGothic')\n"
     ]
    }
   ],
   "source": [
    "import pandas as pd\n",
    "import numpy as np\n",
    "import matplotlib.pyplot as plt\n",
    "import seaborn as sns"
   ]
  },
  {
   "cell_type": "markdown",
   "metadata": {},
   "source": [
    "## データのインポート"
   ]
  },
  {
   "cell_type": "code",
   "execution_count": 2,
   "metadata": {
    "scrolled": true
   },
   "outputs": [
    {
     "data": {
      "text/html": [
       "<div>\n",
       "<style scoped>\n",
       "    .dataframe tbody tr th:only-of-type {\n",
       "        vertical-align: middle;\n",
       "    }\n",
       "\n",
       "    .dataframe tbody tr th {\n",
       "        vertical-align: top;\n",
       "    }\n",
       "\n",
       "    .dataframe thead th {\n",
       "        text-align: right;\n",
       "    }\n",
       "</style>\n",
       "<table border=\"1\" class=\"dataframe\">\n",
       "  <thead>\n",
       "    <tr style=\"text-align: right;\">\n",
       "      <th></th>\n",
       "      <th>id</th>\n",
       "      <th>mpg</th>\n",
       "      <th>cylinders</th>\n",
       "      <th>displacement</th>\n",
       "      <th>horsepower</th>\n",
       "      <th>weight</th>\n",
       "      <th>acceleration</th>\n",
       "      <th>model year</th>\n",
       "      <th>origin</th>\n",
       "      <th>car name</th>\n",
       "    </tr>\n",
       "  </thead>\n",
       "  <tbody>\n",
       "    <tr>\n",
       "      <th>0</th>\n",
       "      <td>0</td>\n",
       "      <td>29.0</td>\n",
       "      <td>4</td>\n",
       "      <td>135.0</td>\n",
       "      <td>84.00</td>\n",
       "      <td>2525.0</td>\n",
       "      <td>16.0</td>\n",
       "      <td>82</td>\n",
       "      <td>1</td>\n",
       "      <td>dodge aries se</td>\n",
       "    </tr>\n",
       "    <tr>\n",
       "      <th>1</th>\n",
       "      <td>3</td>\n",
       "      <td>31.9</td>\n",
       "      <td>4</td>\n",
       "      <td>89.0</td>\n",
       "      <td>71.00</td>\n",
       "      <td>1925.0</td>\n",
       "      <td>14.0</td>\n",
       "      <td>79</td>\n",
       "      <td>2</td>\n",
       "      <td>vw rabbit custom</td>\n",
       "    </tr>\n",
       "    <tr>\n",
       "      <th>2</th>\n",
       "      <td>9</td>\n",
       "      <td>19.0</td>\n",
       "      <td>6</td>\n",
       "      <td>156.0</td>\n",
       "      <td>108.0</td>\n",
       "      <td>2930.0</td>\n",
       "      <td>15.5</td>\n",
       "      <td>76</td>\n",
       "      <td>3</td>\n",
       "      <td>toyota mark ii</td>\n",
       "    </tr>\n",
       "    <tr>\n",
       "      <th>3</th>\n",
       "      <td>11</td>\n",
       "      <td>28.0</td>\n",
       "      <td>4</td>\n",
       "      <td>90.0</td>\n",
       "      <td>75.00</td>\n",
       "      <td>2125.0</td>\n",
       "      <td>14.5</td>\n",
       "      <td>74</td>\n",
       "      <td>1</td>\n",
       "      <td>dodge colt</td>\n",
       "    </tr>\n",
       "    <tr>\n",
       "      <th>4</th>\n",
       "      <td>13</td>\n",
       "      <td>37.7</td>\n",
       "      <td>4</td>\n",
       "      <td>89.0</td>\n",
       "      <td>62.00</td>\n",
       "      <td>2050.0</td>\n",
       "      <td>17.3</td>\n",
       "      <td>81</td>\n",
       "      <td>3</td>\n",
       "      <td>toyota tercel</td>\n",
       "    </tr>\n",
       "  </tbody>\n",
       "</table>\n",
       "</div>"
      ],
      "text/plain": [
       "   id   mpg  cylinders  displacement horsepower  weight  acceleration  \\\n",
       "0   0  29.0          4         135.0      84.00  2525.0          16.0   \n",
       "1   3  31.9          4          89.0      71.00  1925.0          14.0   \n",
       "2   9  19.0          6         156.0      108.0  2930.0          15.5   \n",
       "3  11  28.0          4          90.0      75.00  2125.0          14.5   \n",
       "4  13  37.7          4          89.0      62.00  2050.0          17.3   \n",
       "\n",
       "   model year  origin          car name  \n",
       "0          82       1    dodge aries se  \n",
       "1          79       2  vw rabbit custom  \n",
       "2          76       3    toyota mark ii  \n",
       "3          74       1        dodge colt  \n",
       "4          81       3     toyota tercel  "
      ]
     },
     "execution_count": 2,
     "metadata": {},
     "output_type": "execute_result"
    }
   ],
   "source": [
    "# 学習データ\n",
    "data = pd.read_csv(\"signate_data/train.tsv\", sep=\"\\t\")\n",
    "data.head()"
   ]
  },
  {
   "cell_type": "markdown",
   "metadata": {},
   "source": [
    "## データの確認・欠損値処理"
   ]
  },
  {
   "cell_type": "code",
   "execution_count": 3,
   "metadata": {},
   "outputs": [
    {
     "data": {
      "text/plain": [
       "id              0\n",
       "mpg             0\n",
       "cylinders       0\n",
       "displacement    0\n",
       "horsepower      0\n",
       "weight          0\n",
       "acceleration    0\n",
       "model year      0\n",
       "origin          0\n",
       "car name        0\n",
       "dtype: int64"
      ]
     },
     "execution_count": 3,
     "metadata": {},
     "output_type": "execute_result"
    }
   ],
   "source": [
    "data.isnull().sum()"
   ]
  },
  {
   "cell_type": "code",
   "execution_count": 4,
   "metadata": {},
   "outputs": [
    {
     "data": {
      "text/html": [
       "<div>\n",
       "<style scoped>\n",
       "    .dataframe tbody tr th:only-of-type {\n",
       "        vertical-align: middle;\n",
       "    }\n",
       "\n",
       "    .dataframe tbody tr th {\n",
       "        vertical-align: top;\n",
       "    }\n",
       "\n",
       "    .dataframe thead th {\n",
       "        text-align: right;\n",
       "    }\n",
       "</style>\n",
       "<table border=\"1\" class=\"dataframe\">\n",
       "  <thead>\n",
       "    <tr style=\"text-align: right;\">\n",
       "      <th></th>\n",
       "      <th>mpg</th>\n",
       "      <th>cylinders</th>\n",
       "      <th>displacement</th>\n",
       "      <th>horsepower</th>\n",
       "      <th>weight</th>\n",
       "      <th>acceleration</th>\n",
       "      <th>model year</th>\n",
       "      <th>origin</th>\n",
       "      <th>car name</th>\n",
       "    </tr>\n",
       "  </thead>\n",
       "  <tbody>\n",
       "    <tr>\n",
       "      <th>0</th>\n",
       "      <td>29.0</td>\n",
       "      <td>4</td>\n",
       "      <td>135.0</td>\n",
       "      <td>84.00</td>\n",
       "      <td>2525.0</td>\n",
       "      <td>16.0</td>\n",
       "      <td>82</td>\n",
       "      <td>1</td>\n",
       "      <td>dodge aries se</td>\n",
       "    </tr>\n",
       "    <tr>\n",
       "      <th>1</th>\n",
       "      <td>31.9</td>\n",
       "      <td>4</td>\n",
       "      <td>89.0</td>\n",
       "      <td>71.00</td>\n",
       "      <td>1925.0</td>\n",
       "      <td>14.0</td>\n",
       "      <td>79</td>\n",
       "      <td>2</td>\n",
       "      <td>vw rabbit custom</td>\n",
       "    </tr>\n",
       "    <tr>\n",
       "      <th>2</th>\n",
       "      <td>19.0</td>\n",
       "      <td>6</td>\n",
       "      <td>156.0</td>\n",
       "      <td>108.0</td>\n",
       "      <td>2930.0</td>\n",
       "      <td>15.5</td>\n",
       "      <td>76</td>\n",
       "      <td>3</td>\n",
       "      <td>toyota mark ii</td>\n",
       "    </tr>\n",
       "    <tr>\n",
       "      <th>3</th>\n",
       "      <td>28.0</td>\n",
       "      <td>4</td>\n",
       "      <td>90.0</td>\n",
       "      <td>75.00</td>\n",
       "      <td>2125.0</td>\n",
       "      <td>14.5</td>\n",
       "      <td>74</td>\n",
       "      <td>1</td>\n",
       "      <td>dodge colt</td>\n",
       "    </tr>\n",
       "    <tr>\n",
       "      <th>4</th>\n",
       "      <td>37.7</td>\n",
       "      <td>4</td>\n",
       "      <td>89.0</td>\n",
       "      <td>62.00</td>\n",
       "      <td>2050.0</td>\n",
       "      <td>17.3</td>\n",
       "      <td>81</td>\n",
       "      <td>3</td>\n",
       "      <td>toyota tercel</td>\n",
       "    </tr>\n",
       "  </tbody>\n",
       "</table>\n",
       "</div>"
      ],
      "text/plain": [
       "    mpg  cylinders  displacement horsepower  weight  acceleration  model year  \\\n",
       "0  29.0          4         135.0      84.00  2525.0          16.0          82   \n",
       "1  31.9          4          89.0      71.00  1925.0          14.0          79   \n",
       "2  19.0          6         156.0      108.0  2930.0          15.5          76   \n",
       "3  28.0          4          90.0      75.00  2125.0          14.5          74   \n",
       "4  37.7          4          89.0      62.00  2050.0          17.3          81   \n",
       "\n",
       "   origin          car name  \n",
       "0       1    dodge aries se  \n",
       "1       2  vw rabbit custom  \n",
       "2       3    toyota mark ii  \n",
       "3       1        dodge colt  \n",
       "4       3     toyota tercel  "
      ]
     },
     "execution_count": 4,
     "metadata": {},
     "output_type": "execute_result"
    }
   ],
   "source": [
    "# idカラムの削除\n",
    "data = data.drop(\"id\", axis=1)\n",
    "data.head()"
   ]
  },
  {
   "cell_type": "code",
   "execution_count": 5,
   "metadata": {},
   "outputs": [
    {
     "name": "stdout",
     "output_type": "stream",
     "text": [
      "<class 'pandas.core.frame.DataFrame'>\n",
      "RangeIndex: 199 entries, 0 to 198\n",
      "Data columns (total 9 columns):\n",
      " #   Column        Non-Null Count  Dtype  \n",
      "---  ------        --------------  -----  \n",
      " 0   mpg           199 non-null    float64\n",
      " 1   cylinders     199 non-null    int64  \n",
      " 2   displacement  199 non-null    float64\n",
      " 3   horsepower    199 non-null    object \n",
      " 4   weight        199 non-null    float64\n",
      " 5   acceleration  199 non-null    float64\n",
      " 6   model year    199 non-null    int64  \n",
      " 7   origin        199 non-null    int64  \n",
      " 8   car name      199 non-null    object \n",
      "dtypes: float64(4), int64(3), object(2)\n",
      "memory usage: 14.1+ KB\n"
     ]
    }
   ],
   "source": [
    "data.info()"
   ]
  },
  {
   "cell_type": "code",
   "execution_count": 6,
   "metadata": {},
   "outputs": [
    {
     "data": {
      "text/plain": [
       "chevrolet impala             4\n",
       "ford pinto                   4\n",
       "amc hornet                   3\n",
       "amc gremlin                  3\n",
       "chevrolet caprice classic    3\n",
       "                            ..\n",
       "peugeot 505s turbo diesel    1\n",
       "subaru dl                    1\n",
       "honda prelude                1\n",
       "plymouth valiant             1\n",
       "datsun 200-sx                1\n",
       "Name: car name, Length: 167, dtype: int64"
      ]
     },
     "execution_count": 6,
     "metadata": {},
     "output_type": "execute_result"
    }
   ],
   "source": [
    "# car_nameはほぼ固有値、説明変数としての有効度は低そう\n",
    "data[\"car name\"].value_counts()"
   ]
  },
  {
   "cell_type": "code",
   "execution_count": 7,
   "metadata": {},
   "outputs": [],
   "source": [
    "data = data.drop(\"car name\", axis=1)"
   ]
  },
  {
   "cell_type": "code",
   "execution_count": 8,
   "metadata": {},
   "outputs": [
    {
     "data": {
      "text/html": [
       "<div>\n",
       "<style scoped>\n",
       "    .dataframe tbody tr th:only-of-type {\n",
       "        vertical-align: middle;\n",
       "    }\n",
       "\n",
       "    .dataframe tbody tr th {\n",
       "        vertical-align: top;\n",
       "    }\n",
       "\n",
       "    .dataframe thead th {\n",
       "        text-align: right;\n",
       "    }\n",
       "</style>\n",
       "<table border=\"1\" class=\"dataframe\">\n",
       "  <thead>\n",
       "    <tr style=\"text-align: right;\">\n",
       "      <th></th>\n",
       "      <th>mpg</th>\n",
       "      <th>cylinders</th>\n",
       "      <th>displacement</th>\n",
       "      <th>weight</th>\n",
       "      <th>acceleration</th>\n",
       "      <th>model year</th>\n",
       "      <th>origin</th>\n",
       "    </tr>\n",
       "  </thead>\n",
       "  <tbody>\n",
       "    <tr>\n",
       "      <th>count</th>\n",
       "      <td>199.000000</td>\n",
       "      <td>199.000000</td>\n",
       "      <td>199.000000</td>\n",
       "      <td>199.000000</td>\n",
       "      <td>199.000000</td>\n",
       "      <td>199.000000</td>\n",
       "      <td>199.000000</td>\n",
       "    </tr>\n",
       "    <tr>\n",
       "      <th>mean</th>\n",
       "      <td>24.307035</td>\n",
       "      <td>5.296482</td>\n",
       "      <td>183.311558</td>\n",
       "      <td>2883.839196</td>\n",
       "      <td>15.647739</td>\n",
       "      <td>76.165829</td>\n",
       "      <td>1.582915</td>\n",
       "    </tr>\n",
       "    <tr>\n",
       "      <th>std</th>\n",
       "      <td>7.797665</td>\n",
       "      <td>1.644562</td>\n",
       "      <td>98.400457</td>\n",
       "      <td>819.766870</td>\n",
       "      <td>2.701885</td>\n",
       "      <td>3.802928</td>\n",
       "      <td>0.798932</td>\n",
       "    </tr>\n",
       "    <tr>\n",
       "      <th>min</th>\n",
       "      <td>9.000000</td>\n",
       "      <td>3.000000</td>\n",
       "      <td>71.000000</td>\n",
       "      <td>1613.000000</td>\n",
       "      <td>8.500000</td>\n",
       "      <td>70.000000</td>\n",
       "      <td>1.000000</td>\n",
       "    </tr>\n",
       "    <tr>\n",
       "      <th>25%</th>\n",
       "      <td>18.000000</td>\n",
       "      <td>4.000000</td>\n",
       "      <td>98.000000</td>\n",
       "      <td>2217.500000</td>\n",
       "      <td>14.000000</td>\n",
       "      <td>73.000000</td>\n",
       "      <td>1.000000</td>\n",
       "    </tr>\n",
       "    <tr>\n",
       "      <th>50%</th>\n",
       "      <td>24.000000</td>\n",
       "      <td>4.000000</td>\n",
       "      <td>140.000000</td>\n",
       "      <td>2702.000000</td>\n",
       "      <td>15.500000</td>\n",
       "      <td>76.000000</td>\n",
       "      <td>1.000000</td>\n",
       "    </tr>\n",
       "    <tr>\n",
       "      <th>75%</th>\n",
       "      <td>30.500000</td>\n",
       "      <td>6.000000</td>\n",
       "      <td>250.000000</td>\n",
       "      <td>3426.500000</td>\n",
       "      <td>17.150000</td>\n",
       "      <td>80.000000</td>\n",
       "      <td>2.000000</td>\n",
       "    </tr>\n",
       "    <tr>\n",
       "      <th>max</th>\n",
       "      <td>44.600000</td>\n",
       "      <td>8.000000</td>\n",
       "      <td>454.000000</td>\n",
       "      <td>5140.000000</td>\n",
       "      <td>23.700000</td>\n",
       "      <td>82.000000</td>\n",
       "      <td>3.000000</td>\n",
       "    </tr>\n",
       "  </tbody>\n",
       "</table>\n",
       "</div>"
      ],
      "text/plain": [
       "              mpg   cylinders  displacement       weight  acceleration  \\\n",
       "count  199.000000  199.000000    199.000000   199.000000    199.000000   \n",
       "mean    24.307035    5.296482    183.311558  2883.839196     15.647739   \n",
       "std      7.797665    1.644562     98.400457   819.766870      2.701885   \n",
       "min      9.000000    3.000000     71.000000  1613.000000      8.500000   \n",
       "25%     18.000000    4.000000     98.000000  2217.500000     14.000000   \n",
       "50%     24.000000    4.000000    140.000000  2702.000000     15.500000   \n",
       "75%     30.500000    6.000000    250.000000  3426.500000     17.150000   \n",
       "max     44.600000    8.000000    454.000000  5140.000000     23.700000   \n",
       "\n",
       "       model year      origin  \n",
       "count  199.000000  199.000000  \n",
       "mean    76.165829    1.582915  \n",
       "std      3.802928    0.798932  \n",
       "min     70.000000    1.000000  \n",
       "25%     73.000000    1.000000  \n",
       "50%     76.000000    1.000000  \n",
       "75%     80.000000    2.000000  \n",
       "max     82.000000    3.000000  "
      ]
     },
     "execution_count": 8,
     "metadata": {},
     "output_type": "execute_result"
    }
   ],
   "source": [
    "# 統計量の確認\n",
    "data.describe()"
   ]
  },
  {
   "cell_type": "code",
   "execution_count": 9,
   "metadata": {},
   "outputs": [
    {
     "data": {
      "image/png": "[encoded data removed]",
      "text/plain": [
       "<Figure size 720x360 with 2 Axes>"
      ]
     },
     "metadata": {
      "needs_background": "light"
     },
     "output_type": "display_data"
    }
   ],
   "source": [
    "# cylindersについて\n",
    "fig, axes = plt.subplots(1, 2, figsize=(10, 5))\n",
    "axes[0].hist(data[\"cylinders\"])\n",
    "axes[0].set_title(\"cylinders_histgram\")\n",
    "axes[0].set_xlabel(\"cylinders\")\n",
    "axes[1].scatter(data[\"cylinders\"], data[\"mpg\"])\n",
    "axes[1].set_xlabel(\"cylinders\")\n",
    "axes[1].set_ylabel(\"mpg\")\n",
    "plt.show()"
   ]
  },
  {
   "cell_type": "code",
   "execution_count": 10,
   "metadata": {},
   "outputs": [
    {
     "data": {
      "image/png": "[encoded data removed]",
      "text/plain": [
       "<Figure size 720x360 with 2 Axes>"
      ]
     },
     "metadata": {
      "needs_background": "light"
     },
     "output_type": "display_data"
    }
   ],
   "source": [
    "# displacementについて\n",
    "fig, axes = plt.subplots(1, 2, figsize=(10, 5))\n",
    "axes[0].hist(data[\"displacement\"])\n",
    "axes[0].set_title(\"displacement_histgram\")\n",
    "axes[0].set_xlabel(\"displacement\")\n",
    "axes[1].scatter(data[\"displacement\"], data[\"mpg\"])\n",
    "axes[1].set_xlabel(\"displacement\")\n",
    "axes[1].set_ylabel(\"mpg\")\n",
    "plt.show()"
   ]
  },
  {
   "cell_type": "code",
   "execution_count": 11,
   "metadata": {},
   "outputs": [
    {
     "data": {
      "image/png": "[encoded data removed]",
      "text/plain": [
       "<Figure size 432x288 with 1 Axes>"
      ]
     },
     "metadata": {
      "needs_background": "light"
     },
     "output_type": "display_data"
    }
   ],
   "source": [
    "# displacementの対数化\n",
    "data[\"displacement_log\"] = np.log(data[\"displacement\"])\n",
    "data[\"displacement_log\"].plot.hist(title=\"displacement_log\")\n",
    "plt.show()"
   ]
  },
  {
   "cell_type": "code",
   "execution_count": 12,
   "metadata": {},
   "outputs": [
    {
     "data": {
      "image/png": "[encoded data removed]",
      "text/plain": [
       "<Figure size 720x360 with 2 Axes>"
      ]
     },
     "metadata": {
      "needs_background": "light"
     },
     "output_type": "display_data"
    }
   ],
   "source": [
    "# displacement_logについて\n",
    "fig, axes = plt.subplots(1, 2, figsize=(10, 5))\n",
    "axes[0].hist(data[\"displacement_log\"])\n",
    "axes[0].set_title(\"displacement_log_histgram\")\n",
    "axes[0].set_xlabel(\"displacement_log\")\n",
    "axes[1].scatter(data[\"displacement_log\"], data[\"mpg\"])\n",
    "axes[1].set_xlabel(\"displacement_log\")\n",
    "axes[1].set_ylabel(\"mpg\")\n",
    "plt.show()"
   ]
  },
  {
   "cell_type": "code",
   "execution_count": 73,
   "metadata": {},
   "outputs": [],
   "source": [
    "# displacementを二つに分けてみる\n",
    "data.loc[data[\"displacement\"] >= 250, \"displacement_over\"] = data[\"displacement\"]\n",
    "data.loc[~(data[\"displacement\"] >= 250), \"displacement_under\"] = data[\"displacement\"]\n",
    "data = data.fillna(0)"
   ]
  },
  {
   "cell_type": "code",
   "execution_count": 74,
   "metadata": {},
   "outputs": [
    {
     "data": {
      "text/plain": [
       "Text(0, 0.5, 'mpg')"
      ]
     },
     "execution_count": 74,
     "metadata": {},
     "output_type": "execute_result"
    },
    {
     "data": {
      "image/png": "[encoded data removed]",
      "text/plain": [
       "<Figure size 720x360 with 2 Axes>"
      ]
     },
     "metadata": {
      "needs_background": "light"
     },
     "output_type": "display_data"
    }
   ],
   "source": [
    "fig, axes = plt.subplots(1, 2, figsize=(10, 5))\n",
    "axes[0].scatter(data[\"displacement_over\"], data[\"mpg\"])\n",
    "axes[0].set_xlabel(\"displacement_over\")\n",
    "axes[0].set_ylabel(\"mpg\")\n",
    "axes[1].scatter(data[\"displacement_under\"], data[\"mpg\"])\n",
    "axes[1].set_xlabel(\"displacement_under\")\n",
    "axes[1].set_ylabel(\"mpg\")"
   ]
  },
  {
   "cell_type": "code",
   "execution_count": 13,
   "metadata": {},
   "outputs": [
    {
     "data": {
      "image/png": "[encoded data removed]",
      "text/plain": [
       "<Figure size 720x360 with 2 Axes>"
      ]
     },
     "metadata": {
      "needs_background": "light"
     },
     "output_type": "display_data"
    }
   ],
   "source": [
    "# weightについて\n",
    "fig, axes = plt.subplots(1, 2, figsize=(10, 5))\n",
    "axes[0].hist(data[\"weight\"])\n",
    "axes[0].set_title(\"weight_histgram\")\n",
    "axes[0].set_xlabel(\"weight\")\n",
    "axes[1].scatter(data[\"weight\"], data[\"mpg\"])\n",
    "axes[1].set_xlabel(\"weight\")\n",
    "axes[1].set_ylabel(\"mpg\")\n",
    "plt.show()"
   ]
  },
  {
   "cell_type": "code",
   "execution_count": 14,
   "metadata": {},
   "outputs": [
    {
     "data": {
      "image/png": "[encoded data removed]",
      "text/plain": [
       "<Figure size 432x288 with 1 Axes>"
      ]
     },
     "metadata": {
      "needs_background": "light"
     },
     "output_type": "display_data"
    }
   ],
   "source": [
    "# weightの対数化\n",
    "data[\"weight_log\"] = np.log(data[\"displacement\"])\n",
    "data[\"weight_log\"].plot.hist(title=\"weight_log\")\n",
    "plt.show()"
   ]
  },
  {
   "cell_type": "code",
   "execution_count": 15,
   "metadata": {},
   "outputs": [
    {
     "data": {
      "image/png": "[encoded data removed]",
      "text/plain": [
       "<Figure size 720x360 with 2 Axes>"
      ]
     },
     "metadata": {
      "needs_background": "light"
     },
     "output_type": "display_data"
    }
   ],
   "source": [
    "# weight_logについて\n",
    "fig, axes = plt.subplots(1, 2, figsize=(10, 5))\n",
    "axes[0].hist(data[\"weight_log\"])\n",
    "axes[0].set_title(\"weight_log_histgram\")\n",
    "axes[0].set_xlabel(\"weight_log\")\n",
    "axes[1].scatter(data[\"weight_log\"], data[\"mpg\"])\n",
    "axes[1].set_xlabel(\"weight_log\")\n",
    "axes[1].set_ylabel(\"mpg\")\n",
    "plt.show()"
   ]
  },
  {
   "cell_type": "code",
   "execution_count": 16,
   "metadata": {},
   "outputs": [
    {
     "data": {
      "image/png": "[encoded data removed]",
      "text/plain": [
       "<Figure size 720x360 with 2 Axes>"
      ]
     },
     "metadata": {
      "needs_background": "light"
     },
     "output_type": "display_data"
    }
   ],
   "source": [
    "# accelerationについて\n",
    "fig, axes = plt.subplots(1, 2, figsize=(10, 5))\n",
    "axes[0].hist(data[\"acceleration\"])\n",
    "axes[0].set_title(\"acceleration\")\n",
    "axes[0].set_xlabel(\"acceleration\")\n",
    "axes[1].scatter(data[\"acceleration\"], data[\"mpg\"])\n",
    "axes[1].set_xlabel(\"acceleration\")\n",
    "axes[1].set_ylabel(\"mpg\")\n",
    "plt.show()"
   ]
  },
  {
   "cell_type": "code",
   "execution_count": 17,
   "metadata": {},
   "outputs": [],
   "source": [
    "# accelerationについて　その２\n",
    "# data[\"acceleration\"].value_counts().plot.bar(title=\"acceleration\")"
   ]
  },
  {
   "cell_type": "code",
   "execution_count": 18,
   "metadata": {},
   "outputs": [
    {
     "data": {
      "image/png": "[encoded data removed]",
      "text/plain": [
       "<Figure size 720x360 with 2 Axes>"
      ]
     },
     "metadata": {
      "needs_background": "light"
     },
     "output_type": "display_data"
    }
   ],
   "source": [
    "# model yearについて\n",
    "fig, axes = plt.subplots(1, 2, figsize=(10, 5))\n",
    "axes[0].hist(data[\"model year\"])\n",
    "axes[0].set_title(\"model year_histgram\")\n",
    "axes[0].set_xlabel(\"model year\")\n",
    "axes[1].scatter(data[\"model year\"], data[\"mpg\"])\n",
    "axes[1].set_xlabel(\"model year\")\n",
    "axes[1].set_ylabel(\"mpg\")\n",
    "plt.show()"
   ]
  },
  {
   "cell_type": "code",
   "execution_count": 19,
   "metadata": {},
   "outputs": [
    {
     "data": {
      "text/plain": [
       "<AxesSubplot:title={'center':'model year'}>"
      ]
     },
     "execution_count": 19,
     "metadata": {},
     "output_type": "execute_result"
    },
    {
     "data": {
      "image/png": "[encoded data removed]",
      "text/plain": [
       "<Figure size 432x288 with 1 Axes>"
      ]
     },
     "metadata": {
      "needs_background": "light"
     },
     "output_type": "display_data"
    }
   ],
   "source": [
    "# 棒グラフ\n",
    "model_year_count = data[\"model year\"].value_counts()\n",
    "model_year_count.plot.bar(title=\"model year\")"
   ]
  },
  {
   "cell_type": "code",
   "execution_count": 20,
   "metadata": {},
   "outputs": [
    {
     "data": {
      "image/png": "[encoded data removed]",
      "text/plain": [
       "<Figure size 720x360 with 2 Axes>"
      ]
     },
     "metadata": {
      "needs_background": "light"
     },
     "output_type": "display_data"
    }
   ],
   "source": [
    "# originについて\n",
    "fig, axes = plt.subplots(1, 2, figsize=(10, 5))\n",
    "axes[0].hist(data[\"origin\"])\n",
    "axes[0].set_title(\"origin_histgram\")\n",
    "axes[0].set_xlabel(\"origin\")\n",
    "axes[1].scatter(data[\"origin\"], data[\"mpg\"])\n",
    "axes[1].set_xlabel(\"origin\")\n",
    "axes[1].set_ylabel(\"mpg\")\n",
    "plt.show()"
   ]
  },
  {
   "cell_type": "code",
   "execution_count": 21,
   "metadata": {},
   "outputs": [
    {
     "name": "stderr",
     "output_type": "stream",
     "text": [
      "C:\\Anaconda\\lib\\site-packages\\seaborn\\_decorators.py:36: FutureWarning: Pass the following variables as keyword args: x, y. From version 0.12, the only valid positional argument will be `data`, and passing other arguments without an explicit keyword will result in an error or misinterpretation.\n",
      "  warnings.warn(\n"
     ]
    },
    {
     "data": {
      "image/png": "[encoded data removed]",
      "text/plain": [
       "<Figure size 432x288 with 1 Axes>"
      ]
     },
     "metadata": {
      "needs_background": "light"
     },
     "output_type": "display_data"
    }
   ],
   "source": [
    "# 箱ひげ図\n",
    "sns.boxplot(\"origin\", \"mpg\", data=data)\n",
    "plt.show()"
   ]
  },
  {
   "cell_type": "code",
   "execution_count": 22,
   "metadata": {},
   "outputs": [
    {
     "data": {
      "text/html": [
       "<div>\n",
       "<style scoped>\n",
       "    .dataframe tbody tr th:only-of-type {\n",
       "        vertical-align: middle;\n",
       "    }\n",
       "\n",
       "    .dataframe tbody tr th {\n",
       "        vertical-align: top;\n",
       "    }\n",
       "\n",
       "    .dataframe thead th {\n",
       "        text-align: right;\n",
       "    }\n",
       "</style>\n",
       "<table border=\"1\" class=\"dataframe\">\n",
       "  <thead>\n",
       "    <tr style=\"text-align: right;\">\n",
       "      <th></th>\n",
       "      <th>mpg</th>\n",
       "      <th>cylinders</th>\n",
       "      <th>displacement</th>\n",
       "      <th>weight</th>\n",
       "      <th>acceleration</th>\n",
       "      <th>model year</th>\n",
       "      <th>origin</th>\n",
       "      <th>displacement_log</th>\n",
       "      <th>weight_log</th>\n",
       "    </tr>\n",
       "  </thead>\n",
       "  <tbody>\n",
       "    <tr>\n",
       "      <th>mpg</th>\n",
       "      <td>1.000000</td>\n",
       "      <td>-0.770160</td>\n",
       "      <td>-0.804635</td>\n",
       "      <td>-0.820660</td>\n",
       "      <td>0.379721</td>\n",
       "      <td>0.568471</td>\n",
       "      <td>0.533671</td>\n",
       "      <td>-0.825904</td>\n",
       "      <td>-0.825904</td>\n",
       "    </tr>\n",
       "    <tr>\n",
       "      <th>cylinders</th>\n",
       "      <td>-0.770160</td>\n",
       "      <td>1.000000</td>\n",
       "      <td>0.950600</td>\n",
       "      <td>0.893256</td>\n",
       "      <td>-0.479561</td>\n",
       "      <td>-0.303462</td>\n",
       "      <td>-0.497373</td>\n",
       "      <td>0.931891</td>\n",
       "      <td>0.931891</td>\n",
       "    </tr>\n",
       "    <tr>\n",
       "      <th>displacement</th>\n",
       "      <td>-0.804635</td>\n",
       "      <td>0.950600</td>\n",
       "      <td>1.000000</td>\n",
       "      <td>0.933038</td>\n",
       "      <td>-0.523955</td>\n",
       "      <td>-0.329817</td>\n",
       "      <td>-0.579805</td>\n",
       "      <td>0.979846</td>\n",
       "      <td>0.979846</td>\n",
       "    </tr>\n",
       "    <tr>\n",
       "      <th>weight</th>\n",
       "      <td>-0.820660</td>\n",
       "      <td>0.893256</td>\n",
       "      <td>0.933038</td>\n",
       "      <td>1.000000</td>\n",
       "      <td>-0.401757</td>\n",
       "      <td>-0.265562</td>\n",
       "      <td>-0.535893</td>\n",
       "      <td>0.935477</td>\n",
       "      <td>0.935477</td>\n",
       "    </tr>\n",
       "    <tr>\n",
       "      <th>acceleration</th>\n",
       "      <td>0.379721</td>\n",
       "      <td>-0.479561</td>\n",
       "      <td>-0.523955</td>\n",
       "      <td>-0.401757</td>\n",
       "      <td>1.000000</td>\n",
       "      <td>0.194854</td>\n",
       "      <td>0.189193</td>\n",
       "      <td>-0.486059</td>\n",
       "      <td>-0.486059</td>\n",
       "    </tr>\n",
       "    <tr>\n",
       "      <th>model year</th>\n",
       "      <td>0.568471</td>\n",
       "      <td>-0.303462</td>\n",
       "      <td>-0.329817</td>\n",
       "      <td>-0.265562</td>\n",
       "      <td>0.194854</td>\n",
       "      <td>1.000000</td>\n",
       "      <td>0.124279</td>\n",
       "      <td>-0.277784</td>\n",
       "      <td>-0.277784</td>\n",
       "    </tr>\n",
       "    <tr>\n",
       "      <th>origin</th>\n",
       "      <td>0.533671</td>\n",
       "      <td>-0.497373</td>\n",
       "      <td>-0.579805</td>\n",
       "      <td>-0.535893</td>\n",
       "      <td>0.189193</td>\n",
       "      <td>0.124279</td>\n",
       "      <td>1.000000</td>\n",
       "      <td>-0.630162</td>\n",
       "      <td>-0.630162</td>\n",
       "    </tr>\n",
       "    <tr>\n",
       "      <th>displacement_log</th>\n",
       "      <td>-0.825904</td>\n",
       "      <td>0.931891</td>\n",
       "      <td>0.979846</td>\n",
       "      <td>0.935477</td>\n",
       "      <td>-0.486059</td>\n",
       "      <td>-0.277784</td>\n",
       "      <td>-0.630162</td>\n",
       "      <td>1.000000</td>\n",
       "      <td>1.000000</td>\n",
       "    </tr>\n",
       "    <tr>\n",
       "      <th>weight_log</th>\n",
       "      <td>-0.825904</td>\n",
       "      <td>0.931891</td>\n",
       "      <td>0.979846</td>\n",
       "      <td>0.935477</td>\n",
       "      <td>-0.486059</td>\n",
       "      <td>-0.277784</td>\n",
       "      <td>-0.630162</td>\n",
       "      <td>1.000000</td>\n",
       "      <td>1.000000</td>\n",
       "    </tr>\n",
       "  </tbody>\n",
       "</table>\n",
       "</div>"
      ],
      "text/plain": [
       "                       mpg  cylinders  displacement    weight  acceleration  \\\n",
       "mpg               1.000000  -0.770160     -0.804635 -0.820660      0.379721   \n",
       "cylinders        -0.770160   1.000000      0.950600  0.893256     -0.479561   \n",
       "displacement     -0.804635   0.950600      1.000000  0.933038     -0.523955   \n",
       "weight           -0.820660   0.893256      0.933038  1.000000     -0.401757   \n",
       "acceleration      0.379721  -0.479561     -0.523955 -0.401757      1.000000   \n",
       "model year        0.568471  -0.303462     -0.329817 -0.265562      0.194854   \n",
       "origin            0.533671  -0.497373     -0.579805 -0.535893      0.189193   \n",
       "displacement_log -0.825904   0.931891      0.979846  0.935477     -0.486059   \n",
       "weight_log       -0.825904   0.931891      0.979846  0.935477     -0.486059   \n",
       "\n",
       "                  model year    origin  displacement_log  weight_log  \n",
       "mpg                 0.568471  0.533671         -0.825904   -0.825904  \n",
       "cylinders          -0.303462 -0.497373          0.931891    0.931891  \n",
       "displacement       -0.329817 -0.579805          0.979846    0.979846  \n",
       "weight             -0.265562 -0.535893          0.935477    0.935477  \n",
       "acceleration        0.194854  0.189193         -0.486059   -0.486059  \n",
       "model year          1.000000  0.124279         -0.277784   -0.277784  \n",
       "origin              0.124279  1.000000         -0.630162   -0.630162  \n",
       "displacement_log   -0.277784 -0.630162          1.000000    1.000000  \n",
       "weight_log         -0.277784 -0.630162          1.000000    1.000000  "
      ]
     },
     "execution_count": 22,
     "metadata": {},
     "output_type": "execute_result"
    }
   ],
   "source": [
    "# 相関関係\n",
    "corr_matrix = data.corr()\n",
    "corr_matrix\n",
    "# sns.heatmap(corr_matrix)\n",
    "# plt.show()"
   ]
  },
  {
   "cell_type": "markdown",
   "metadata": {},
   "source": [
    "### データについて\n",
    "・idは固有値で説明変数にはならない  \n",
    "・car nameもほぼ固有値で説明変数としての有効度は低いと考えられるため除く。  \n",
    "  \n",
    "・cylindersについて  \n",
    ">・cylindersの数値が小さい（シリンダーの数が少ない）ほど、燃費は良い傾向にあると考えられる  \n",
    "\n",
    "・displacementについて  \n",
    ">・小さい値ほど度数が高く、大きい値になるにつれて度数は低下していくことから、指数分布となっている。  \n",
    "・分布についても、指数関数のようになっているため、対数化を行う。  \n",
    "・displacementの値が200前後（対数化だと5.25前後）で傾向が大きく変わる。異なる特性の分布になっている可能性がある。  \n",
    "⇒ひとまず対数化したものでモデルを作成する。  \n",
    "\n",
    "・weightについて  \n",
    ">・やや指数分布より。対数化を検討。  \n",
    "\n",
    "・accelerationについて  \n",
    ">・正規分布だが、mpgとの線形関係は低い  \n",
    "・カテゴリ変数？\n",
    "\n",
    "・model yearについて  \n",
    ">・カテゴリ変数。  \n",
    "・最新型になるにつれ燃費性能は上がっていくことが分かる。  \n",
    "\n",
    "・originについて  \n",
    ">・よくわからないデータだが、値が大きくなるにつれmpgの平均値が高くなっていることから、燃費性能との関係性はありそう。  \n",
    "・モデルに入れるかどうか精度改善の時に判断する。  \n",
    "\n"
   ]
  },
  {
   "cell_type": "markdown",
   "metadata": {},
   "source": [
    "## 燃費予測モデルの作成"
   ]
  },
  {
   "cell_type": "code",
   "execution_count": 24,
   "metadata": {},
   "outputs": [],
   "source": [
    "# ライブラリのインポート\n",
    "from sklearn.linear_model import LinearRegression as LR\n",
    "from sklearn.metrics import mean_squared_error as MSE"
   ]
  },
  {
   "cell_type": "code",
   "execution_count": 69,
   "metadata": {},
   "outputs": [],
   "source": [
    "# 変数の準備（学習データ）\n",
    "X = data[[\"cylinders\", \"displacement_over\",\"displacement_under\", \"weight\", \"acceleration\", \"model year\", \"origin\"]]\n",
    "# X_dummy = pd.get_dummies(X)\n",
    "y = data[\"mpg\"]"
   ]
  },
  {
   "cell_type": "code",
   "execution_count": 70,
   "metadata": {},
   "outputs": [
    {
     "data": {
      "text/plain": [
       "LinearRegression()"
      ]
     },
     "execution_count": 70,
     "metadata": {},
     "output_type": "execute_result"
    }
   ],
   "source": [
    "lr = LR()\n",
    "lr.fit(X, y)"
   ]
  },
  {
   "cell_type": "code",
   "execution_count": 71,
   "metadata": {},
   "outputs": [],
   "source": [
    "y_pred_train = lr.predict(X)"
   ]
  },
  {
   "cell_type": "code",
   "execution_count": 72,
   "metadata": {},
   "outputs": [
    {
     "name": "stdout",
     "output_type": "stream",
     "text": [
      "3.1277577133206735\n"
     ]
    }
   ],
   "source": [
    "mse_train = MSE(y, y_pred_train)\n",
    "rmse_train = np.sqrt(mse_train)\n",
    "print(rmse_train)"
   ]
  },
  {
   "cell_type": "markdown",
   "metadata": {},
   "source": [
    "### モデルの精度改善\n",
    "①データ加工なし  \n",
    ">X = data[[\"cylinders\", \"displacement\", \"weight\", \"acceleration\", \"model year\", \"origin\"]]  \n",
    "RMSE = 3.2722656646618913  \n",
    "\n",
    "②displacementの対数化  \n",
    ">X = data[[\"cylinders\", \"displacement_log\", \"weight\", \"acceleration\", \"model year\", \"origin\"]]  \n",
    "RMSE = 3.199933828628729  \n",
    "\n",
    "③weightの対数化\n",
    ">X = data[[\"cylinders\", \"displacement\", \"weight_log\", \"acceleration\", \"model year\", \"origin\"]]  \n",
    "RMSE = 3.242479332137109  \n",
    "X = data[[\"cylinders\", \"displacement_log\", \"weight_log\", \"acceleration\", \"model year\", \"origin\"]]  \n",
    "RMSE = 3.378673269977794  \n",
    "\n",
    "④displacementを250で二つのデータに分ける\n",
    ">X = data[[\"cylinders\", \"displacement_over\",\"displacement_under\", \"weight\", \"acceleration\", \"model year\", \"origin\"]]  \n",
    "RMSE = 3.122355411894864\n",
    "\n",
    "\n"
   ]
  },
  {
   "cell_type": "markdown",
   "metadata": {},
   "source": [
    "## 結果の可視化"
   ]
  },
  {
   "cell_type": "code",
   "execution_count": 29,
   "metadata": {},
   "outputs": [],
   "source": [
    "max_train = max(y)\n",
    "min_train = min(y)\n",
    "max_pred_train = max(y_pred_train)\n",
    "min_pred_train = min(y_pred_train)\n",
    "max_value = np.maximum(max_train, max_pred_train)\n",
    "min_value = np.minimum(min_train, min_pred_train)"
   ]
  },
  {
   "cell_type": "code",
   "execution_count": 30,
   "metadata": {},
   "outputs": [
    {
     "data": {
      "image/png": "[encoded data removed]",
      "text/plain": [
       "<Figure size 360x360 with 1 Axes>"
      ]
     },
     "metadata": {
      "needs_background": "light"
     },
     "output_type": "display_data"
    }
   ],
   "source": [
    "plt.figure(figsize=(5,5))\n",
    "plt.xlim([min_value, max_value])\n",
    "plt.ylim([min_value, max_value])\n",
    "plt.scatter(y, y_pred_train)\n",
    "plt.plot((min_value, max_value), (min_value, max_value))\n",
    "plt.xlabel(\"y\")\n",
    "plt.ylabel(\"y_pred_train\")\n",
    "plt.show()"
   ]
  },
  {
   "cell_type": "markdown",
   "metadata": {},
   "source": [
    "## 評価データの予測と出力"
   ]
  },
  {
   "cell_type": "code",
   "execution_count": 31,
   "metadata": {},
   "outputs": [
    {
     "data": {
      "text/html": [
       "<div>\n",
       "<style scoped>\n",
       "    .dataframe tbody tr th:only-of-type {\n",
       "        vertical-align: middle;\n",
       "    }\n",
       "\n",
       "    .dataframe tbody tr th {\n",
       "        vertical-align: top;\n",
       "    }\n",
       "\n",
       "    .dataframe thead th {\n",
       "        text-align: right;\n",
       "    }\n",
       "</style>\n",
       "<table border=\"1\" class=\"dataframe\">\n",
       "  <thead>\n",
       "    <tr style=\"text-align: right;\">\n",
       "      <th></th>\n",
       "      <th>id</th>\n",
       "      <th>cylinders</th>\n",
       "      <th>displacement</th>\n",
       "      <th>horsepower</th>\n",
       "      <th>weight</th>\n",
       "      <th>acceleration</th>\n",
       "      <th>model year</th>\n",
       "      <th>origin</th>\n",
       "      <th>car name</th>\n",
       "    </tr>\n",
       "  </thead>\n",
       "  <tbody>\n",
       "    <tr>\n",
       "      <th>0</th>\n",
       "      <td>1</td>\n",
       "      <td>6</td>\n",
       "      <td>145.0</td>\n",
       "      <td>76.00</td>\n",
       "      <td>3160.0</td>\n",
       "      <td>19.6</td>\n",
       "      <td>81</td>\n",
       "      <td>2</td>\n",
       "      <td>volvo diesel</td>\n",
       "    </tr>\n",
       "    <tr>\n",
       "      <th>1</th>\n",
       "      <td>2</td>\n",
       "      <td>6</td>\n",
       "      <td>250.0</td>\n",
       "      <td>98.00</td>\n",
       "      <td>3525.0</td>\n",
       "      <td>19.0</td>\n",
       "      <td>77</td>\n",
       "      <td>1</td>\n",
       "      <td>ford granada</td>\n",
       "    </tr>\n",
       "    <tr>\n",
       "      <th>2</th>\n",
       "      <td>4</td>\n",
       "      <td>4</td>\n",
       "      <td>119.0</td>\n",
       "      <td>92.00</td>\n",
       "      <td>2434.0</td>\n",
       "      <td>15.0</td>\n",
       "      <td>80</td>\n",
       "      <td>3</td>\n",
       "      <td>datsun 510 hatchback</td>\n",
       "    </tr>\n",
       "    <tr>\n",
       "      <th>3</th>\n",
       "      <td>5</td>\n",
       "      <td>6</td>\n",
       "      <td>258.0</td>\n",
       "      <td>110.0</td>\n",
       "      <td>2962.0</td>\n",
       "      <td>13.5</td>\n",
       "      <td>71</td>\n",
       "      <td>1</td>\n",
       "      <td>amc hornet sportabout (sw)</td>\n",
       "    </tr>\n",
       "    <tr>\n",
       "      <th>4</th>\n",
       "      <td>6</td>\n",
       "      <td>4</td>\n",
       "      <td>97.0</td>\n",
       "      <td>88.00</td>\n",
       "      <td>2100.0</td>\n",
       "      <td>16.5</td>\n",
       "      <td>72</td>\n",
       "      <td>3</td>\n",
       "      <td>toyota corolla 1600 (sw)</td>\n",
       "    </tr>\n",
       "  </tbody>\n",
       "</table>\n",
       "</div>"
      ],
      "text/plain": [
       "   id  cylinders  displacement horsepower  weight  acceleration  model year  \\\n",
       "0   1          6         145.0      76.00  3160.0          19.6          81   \n",
       "1   2          6         250.0      98.00  3525.0          19.0          77   \n",
       "2   4          4         119.0      92.00  2434.0          15.0          80   \n",
       "3   5          6         258.0      110.0  2962.0          13.5          71   \n",
       "4   6          4          97.0      88.00  2100.0          16.5          72   \n",
       "\n",
       "   origin                    car name  \n",
       "0       2                volvo diesel  \n",
       "1       1                ford granada  \n",
       "2       3        datsun 510 hatchback  \n",
       "3       1  amc hornet sportabout (sw)  \n",
       "4       3    toyota corolla 1600 (sw)  "
      ]
     },
     "execution_count": 31,
     "metadata": {},
     "output_type": "execute_result"
    }
   ],
   "source": [
    "# テストデータ\n",
    "test_df = pd.read_csv(\"signate_data/test.tsv\", sep=\"\\t\")\n",
    "test_df_index = test_df[\"id\"]\n",
    "test_df.head()"
   ]
  },
  {
   "cell_type": "code",
   "execution_count": 33,
   "metadata": {},
   "outputs": [],
   "source": [
    "test_df[\"displacement_log\"] = np.log(test_df[\"displacement\"])"
   ]
  },
  {
   "cell_type": "code",
   "execution_count": 34,
   "metadata": {},
   "outputs": [],
   "source": [
    "# 変数の準備（テストデータ）\n",
    "X_test = test_df[[\"cylinders\", \"displacement_log\", \"weight\", \"acceleration\", \"model year\", \"origin\"]]\n",
    "# X_test_dummy = pd.get_dummies(X)"
   ]
  },
  {
   "cell_type": "code",
   "execution_count": 35,
   "metadata": {},
   "outputs": [],
   "source": [
    "y_pred_test = lr.predict(X_test)"
   ]
  },
  {
   "cell_type": "code",
   "execution_count": 36,
   "metadata": {},
   "outputs": [],
   "source": [
    "result = pd.DataFrame(y_pred_test)\n",
    "result.index = test_df_index\n",
    "result.to_csv(\"test_pred.csv\", header=False)"
   ]
  },
  {
   "cell_type": "code",
   "execution_count": null,
   "metadata": {},
   "outputs": [],
   "source": []
  }
 ],
 "metadata": {
  "kernelspec": {
   "display_name": "Python 3",
   "language": "python",
   "name": "python3"
  },
  "language_info": {
   "codemirror_mode": {
    "name": "ipython",
    "version": 3
   },
   "file_extension": ".py",
   "mimetype": "text/x-python",
   "name": "python",
   "nbconvert_exporter": "python",
   "pygments_lexer": "ipython3",
   "version": "3.8.5"
  }
 },
 "nbformat": 4,
 "nbformat_minor": 4
}
